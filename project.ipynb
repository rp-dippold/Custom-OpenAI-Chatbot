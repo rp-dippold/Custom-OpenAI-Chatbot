{
 "cells": [
  {
   "cell_type": "markdown",
   "id": "124e5672",
   "metadata": {},
   "source": [
    "# Custom Chatbot Project"
   ]
  },
  {
   "cell_type": "markdown",
   "id": "2a4a94b3",
   "metadata": {},
   "source": [
    "TODO: In this cell, write an explanation of which dataset you have chosen and why it is appropriate for this task\n",
    "\n",
    "In this project I'm going to use the **2023 Turkey–Syria earthquakes** Wikipedia page as it contains information about an event that did not happen when GPT was trained (2021), i.e. questions regarding this event could not be anwered by the bot without this additional contextual information."
   ]
  },
  {
   "cell_type": "markdown",
   "id": "a63d4c5f",
   "metadata": {},
   "source": [
    "## Data Wrangling\n",
    "\n",
    "TODO: In the cells below, load your chosen dataset into a `pandas` dataframe with a column named `\"text\"`. This column should contain all of your text data, separated into at least 20 rows."
   ]
  },
  {
   "cell_type": "code",
   "execution_count": 1,
   "id": "c69b83a1",
   "metadata": {},
   "outputs": [],
   "source": [
    "# Some imports required for this notebook\n",
    "import pandas as pd\n",
    "import numpy as np\n",
    "import requests\n",
    "\n",
    "from utils import *"
   ]
  },
  {
   "cell_type": "code",
   "execution_count": 2,
   "id": "8e9b9d9d",
   "metadata": {},
   "outputs": [],
   "source": [
    "# Set openai api key by providing a valid key or text file containing the key.\n",
    "set_api_key(\"openaikey.txt\")  #  <=== adapt this argument!!!\n",
    "\n",
    "# Create a configuration object\n",
    "config = create_config({\n",
    "    'EMBEDDING_MODEL_NAME': 'text-embedding-ada-002',\n",
    "    'COMPLETION_MODEL_NAME': 'text-davinci-003',\n",
    "    'ENCODING': 'cl100k_base',\n",
    "    'MAX_PROMPT_TOKENS': 2000,\n",
    "    'MAX_RESPONSE_TOKENS': 150,\n",
    "    'BATCH_SIZE': 100,\n",
    "    'FROM_SCRATCH': False,  # create every intermediate result from scratch (true) or use stored data (false)\n",
    "})"
   ]
  },
  {
   "cell_type": "code",
   "execution_count": 3,
   "id": "a7d874a0",
   "metadata": {},
   "outputs": [
    {
     "data": {
      "text/html": [
       "<div>\n",
       "<style scoped>\n",
       "    .dataframe tbody tr th:only-of-type {\n",
       "        vertical-align: middle;\n",
       "    }\n",
       "\n",
       "    .dataframe tbody tr th {\n",
       "        vertical-align: top;\n",
       "    }\n",
       "\n",
       "    .dataframe thead th {\n",
       "        text-align: right;\n",
       "    }\n",
       "</style>\n",
       "<table border=\"1\" class=\"dataframe\">\n",
       "  <thead>\n",
       "    <tr style=\"text-align: right;\">\n",
       "      <th></th>\n",
       "      <th>text</th>\n",
       "    </tr>\n",
       "  </thead>\n",
       "  <tbody>\n",
       "    <tr>\n",
       "      <th>0</th>\n",
       "      <td>On 6 February 2023, at 04:17 TRT (01:17 UTC), ...</td>\n",
       "    </tr>\n",
       "    <tr>\n",
       "      <th>1</th>\n",
       "      <td>8 earthquake struck southern and central Turke...</td>\n",
       "    </tr>\n",
       "    <tr>\n",
       "      <th>2</th>\n",
       "      <td>The epicenter was 37 km (23 mi) west–northwest...</td>\n",
       "    </tr>\n",
       "    <tr>\n",
       "      <th>3</th>\n",
       "      <td>The earthquake had a maximum Mercalli intensit...</td>\n",
       "    </tr>\n",
       "    <tr>\n",
       "      <th>4</th>\n",
       "      <td>It was followed by a Mw 7.</td>\n",
       "    </tr>\n",
       "  </tbody>\n",
       "</table>\n",
       "</div>"
      ],
      "text/plain": [
       "                                                text\n",
       "0  On 6 February 2023, at 04:17 TRT (01:17 UTC), ...\n",
       "1  8 earthquake struck southern and central Turke...\n",
       "2  The epicenter was 37 km (23 mi) west–northwest...\n",
       "3  The earthquake had a maximum Mercalli intensit...\n",
       "4                         It was followed by a Mw 7."
      ]
     },
     "execution_count": 3,
     "metadata": {},
     "output_type": "execute_result"
    }
   ],
   "source": [
    "################\n",
    "### CLEANING ###\n",
    "################\n",
    "\n",
    "if config.FROM_SCRATCH:\n",
    "    # Load data from Wikipedia\n",
    "    params = {\n",
    "        \"action\": \"query\", \n",
    "        \"prop\": \"extracts\",\n",
    "        \"exlimit\": 1,\n",
    "        \"titles\": \"2023_Turkey–Syria_earthquakes\",\n",
    "        \"explaintext\": 1,\n",
    "        \"formatversion\": 2,\n",
    "        \"format\": \"json\"\n",
    "    }\n",
    "    response = requests.get(\"https://en.wikipedia.org/w/api.php\", params=params)\n",
    "    \n",
    "    # Create dataframe an load data from Wikipedia into column \"text\"\n",
    "    df = pd.DataFrame()\n",
    "    df['text'] = response.json()['query']['pages'][0]['extract'].split('\\n')\n",
    "\n",
    "    # Perform some data cleaning steps to prepare the data appropriately\n",
    "    # -- remove empty lines and headings\n",
    "    # -- ...\n",
    "    df = clean_data(df)\n",
    "    # Store the result in a csv file\n",
    "    df.to_csv('./data/results/df_preprocessed.csv')\n",
    "else:\n",
    "    # Load cleaned data from csv file\n",
    "    df = pd.read_csv('./data/results/df_preprocessed.csv', index_col = 0)    \n",
    "    \n",
    "df.head()"
   ]
  },
  {
   "cell_type": "code",
   "execution_count": 4,
   "id": "acb3a9fd",
   "metadata": {},
   "outputs": [],
   "source": [
    "##################\n",
    "### EMBEDDINGS ###\n",
    "##################\n",
    "\n",
    "if config.FROM_SCRATCH:\n",
    "    # Get embeddings for all text rows from openai and store in csv file\n",
    "    df['embeddings'] = get_embeddings(df, config)\n",
    "    df.to_csv('./data/results/df_embeddings.csv')\n",
    "    df['embeddings'] = df['embeddings'].apply(np.array)\n",
    "else:\n",
    "    # Load preprocessed date with embeddings from csv file\n",
    "    df = pd.read_csv('./data/results/df_embeddings.csv', index_col = 0)\n",
    "    df['embeddings'] = df['embeddings'].apply(eval).apply(np.array)    "
   ]
  },
  {
   "cell_type": "code",
   "execution_count": 5,
   "id": "d1cf97cf",
   "metadata": {},
   "outputs": [
    {
     "data": {
      "text/html": [
       "<div>\n",
       "<style scoped>\n",
       "    .dataframe tbody tr th:only-of-type {\n",
       "        vertical-align: middle;\n",
       "    }\n",
       "\n",
       "    .dataframe tbody tr th {\n",
       "        vertical-align: top;\n",
       "    }\n",
       "\n",
       "    .dataframe thead th {\n",
       "        text-align: right;\n",
       "    }\n",
       "</style>\n",
       "<table border=\"1\" class=\"dataframe\">\n",
       "  <thead>\n",
       "    <tr style=\"text-align: right;\">\n",
       "      <th></th>\n",
       "      <th>text</th>\n",
       "      <th>embeddings</th>\n",
       "    </tr>\n",
       "  </thead>\n",
       "  <tbody>\n",
       "    <tr>\n",
       "      <th>0</th>\n",
       "      <td>On 6 February 2023, at 04:17 TRT (01:17 UTC), ...</td>\n",
       "      <td>[-0.007678510621190071, -0.01049796398729086, ...</td>\n",
       "    </tr>\n",
       "    <tr>\n",
       "      <th>1</th>\n",
       "      <td>8 earthquake struck southern and central Turke...</td>\n",
       "      <td>[-0.007633099798113108, -0.02849690616130829, ...</td>\n",
       "    </tr>\n",
       "    <tr>\n",
       "      <th>2</th>\n",
       "      <td>The epicenter was 37 km (23 mi) west–northwest...</td>\n",
       "      <td>[0.0034406911581754684, 0.013554828241467476, ...</td>\n",
       "    </tr>\n",
       "    <tr>\n",
       "      <th>3</th>\n",
       "      <td>The earthquake had a maximum Mercalli intensit...</td>\n",
       "      <td>[0.0018920789007097483, -0.0034654918126761913...</td>\n",
       "    </tr>\n",
       "    <tr>\n",
       "      <th>4</th>\n",
       "      <td>It was followed by a Mw 7.</td>\n",
       "      <td>[-0.004148250445723534, 0.0018140365136787295,...</td>\n",
       "    </tr>\n",
       "  </tbody>\n",
       "</table>\n",
       "</div>"
      ],
      "text/plain": [
       "                                                text  \\\n",
       "0  On 6 February 2023, at 04:17 TRT (01:17 UTC), ...   \n",
       "1  8 earthquake struck southern and central Turke...   \n",
       "2  The epicenter was 37 km (23 mi) west–northwest...   \n",
       "3  The earthquake had a maximum Mercalli intensit...   \n",
       "4                         It was followed by a Mw 7.   \n",
       "\n",
       "                                          embeddings  \n",
       "0  [-0.007678510621190071, -0.01049796398729086, ...  \n",
       "1  [-0.007633099798113108, -0.02849690616130829, ...  \n",
       "2  [0.0034406911581754684, 0.013554828241467476, ...  \n",
       "3  [0.0018920789007097483, -0.0034654918126761913...  \n",
       "4  [-0.004148250445723534, 0.0018140365136787295,...  "
      ]
     },
     "execution_count": 5,
     "metadata": {},
     "output_type": "execute_result"
    }
   ],
   "source": [
    "df.head()"
   ]
  },
  {
   "cell_type": "markdown",
   "id": "ae769871",
   "metadata": {},
   "source": [
    "## Custom Query Completion\n",
    "\n",
    "TODO: In the cells below, compose a custom query using your chosen dataset and retrieve results from an OpenAI `Completion` model. You may copy and paste any useful code from the course materials."
   ]
  },
  {
   "cell_type": "raw",
   "id": "0e5d9770",
   "metadata": {},
   "source": [
    "Implementation of composing a custom query is done in utils.py. Please have a check out the following functions:\n",
    "- get_rows_sorted_by_relevance: This function calculates the cosine distance to a question and the rows in the dataframe\n",
    "                                and returns it in ascending order by distance.\n",
    "- create_prompt: This function creates a (customized) prompt by referring to the result of \"get_rows_sorted_by_relevance\".\n",
    "- answer_question: This function creates a (customized) prompt by using the create_prompt function and sending it to openai."
   ]
  },
  {
   "cell_type": "code",
   "execution_count": 6,
   "id": "9ae0665e",
   "metadata": {},
   "outputs": [
    {
     "name": "stdout",
     "output_type": "stream",
     "text": [
      "The last earthquake in Turkey was the 8.2 magnitude earthquake that occurred in February 2023.\n"
     ]
    }
   ],
   "source": [
    "answer = answer_question(\"When was the last earthquake in Turkey?\", df, config, custom=True)\n",
    "print(answer)"
   ]
  },
  {
   "cell_type": "code",
   "execution_count": 7,
   "id": "dc82b79a",
   "metadata": {},
   "outputs": [
    {
     "name": "stdout",
     "output_type": "stream",
     "text": [
      "Yes, the earthquake in Turkey in 2023 had an impact on Syria, with the Syrian Ministry of Health recording over 2,248 earthquake-related deaths and 2,950 injuries in government held areas, most of which were in the governorates of Aleppo and Latakia. Additionally, the World Health Organization said up to 26 million people may have been affected; 15 million in Turkey and 11 million in Syria.\n"
     ]
    }
   ],
   "source": [
    "# Example question and answer\n",
    "answer = answer_question(\"Did the earthquake in Turkey in 2023 also have an impact on Syria?\", df, config, custom=True)\n",
    "print(answer)"
   ]
  },
  {
   "cell_type": "markdown",
   "id": "1783f146",
   "metadata": {},
   "source": [
    "## Custom Performance Demonstration\n",
    "\n",
    "TODO: In the cells below, demonstrate the performance of your custom query using at least 2 questions. For each question, show the answer from a basic `Completion` model query as well as the answer from your custom query."
   ]
  },
  {
   "cell_type": "markdown",
   "id": "4f11fdc0",
   "metadata": {},
   "source": [
    "### Question 1"
   ]
  },
  {
   "cell_type": "code",
   "execution_count": 8,
   "id": "4901c850",
   "metadata": {},
   "outputs": [
    {
     "name": "stdout",
     "output_type": "stream",
     "text": [
      "Yes, two mainshocks reaching above Mw 7 occurred between 6 and 17 February 2023.\n"
     ]
    }
   ],
   "source": [
    "# Question with context\n",
    "print(answer_question('Did any earthquake happen in Turkey in 2023?', df, config, custom=True))"
   ]
  },
  {
   "cell_type": "code",
   "execution_count": 9,
   "id": "bd7a093b",
   "metadata": {},
   "outputs": [
    {
     "name": "stdout",
     "output_type": "stream",
     "text": [
      "I don't know.\n"
     ]
    }
   ],
   "source": [
    "# Same question without context\n",
    "print(answer_question('Did any earthquake happen in Turkey in 2023?', df, config, custom=False))"
   ]
  },
  {
   "cell_type": "markdown",
   "id": "6e86e37c",
   "metadata": {},
   "source": [
    "### Question 2"
   ]
  },
  {
   "cell_type": "code",
   "execution_count": 10,
   "id": "6f646989",
   "metadata": {},
   "outputs": [
    {
     "name": "stdout",
     "output_type": "stream",
     "text": [
      "Yes, at least 50,783 people died due to the earthquake in Turkey in 2023.\n"
     ]
    }
   ],
   "source": [
    "print(answer_question('Did any people die due to the earthquake in Turkey in 2023?', df, config, custom=True))"
   ]
  },
  {
   "cell_type": "code",
   "execution_count": 11,
   "id": "519fa8f9",
   "metadata": {},
   "outputs": [
    {
     "name": "stdout",
     "output_type": "stream",
     "text": [
      "I don't know.\n"
     ]
    }
   ],
   "source": [
    "print(answer_question('Did any people die due to the earthquake in Turkey in 2023?', df, config, custom=False))"
   ]
  },
  {
   "cell_type": "markdown",
   "id": "1257528d",
   "metadata": {},
   "source": [
    "## Chat Bot"
   ]
  },
  {
   "cell_type": "code",
   "execution_count": 12,
   "id": "e6871037",
   "metadata": {},
   "outputs": [
    {
     "name": "stdout",
     "output_type": "stream",
     "text": [
      "Hello, what do you want to know?\n",
      "\n",
      "You: What happend in Turkey in 2023?\n",
      "\n",
      "Bot: In 2023, a destructive earthquake struck İzmir in Turkey; President Erdogan declared a 3-month state of emergency in 10 affected provinces; serious actions were taken to address the issue; an estimated 14 million people, or 16% of Turkey's population, were affected; Turkey sent an official request to NATO and allies for assistance; over 53,000 Turkish emergency workers were deployed to the regions affected; more than 20% of Turkey's agriculture production was affected; these earthquakes were the largest Turkish earthquakes in over 2,000 years; the Turkish government announced plans to construct 200,000 homes in the 11 affected provinces and a further 70,000 in villages; the governing alliance between the MHP and the AKP approved a state of emergency in\n",
      "\n",
      "You: Was only Turkey impacted by this earthquake?\n",
      "\n",
      "Bot: No, the European-Mediterranean Seismological Centre said shaking was felt in Armenia, Egypt, Palestine, Georgia, Greece, Iraq, Jordan, Israel, and Russia.\n",
      "\n",
      "You: Was the earthquake also felt in Syria?\n",
      "\n",
      "Bot: Yes, shaking was felt in Syria.\n",
      "\n",
      "You: How big was the damage in Turkey?\n",
      "\n",
      "Bot: Total cost of earthquake damage in Turkey was estimated by TÜRKONFED at $84 billion. President Recep Tayyip Erdogan said rebuilding would cost $105 billion.\n",
      "\n",
      "You: \n",
      "\n",
      "Good bye!\n"
     ]
    }
   ],
   "source": [
    "print('Hello, what do you want to know?\\n')\n",
    "while True:\n",
    "    question = input('You: ')\n",
    "    if len(question) > 0:\n",
    "        print(f'\\nBot: {answer_question(question, df, config, custom=True)}', end='\\n\\n')\n",
    "    else:\n",
    "        print('\\nGood bye!')\n",
    "        break"
   ]
  }
 ],
 "metadata": {
  "kernelspec": {
   "display_name": "chatbot",
   "language": "python",
   "name": "chatbot"
  },
  "language_info": {
   "codemirror_mode": {
    "name": "ipython",
    "version": 3
   },
   "file_extension": ".py",
   "mimetype": "text/x-python",
   "name": "python",
   "nbconvert_exporter": "python",
   "pygments_lexer": "ipython3",
   "version": "3.9.18"
  }
 },
 "nbformat": 4,
 "nbformat_minor": 5
}
